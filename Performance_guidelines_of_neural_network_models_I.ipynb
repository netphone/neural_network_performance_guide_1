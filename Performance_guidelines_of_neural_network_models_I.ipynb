{
  "nbformat": 4,
  "nbformat_minor": 0,
  "metadata": {
    "colab": {
      "name": "Performance guidelines of neural network models I.ipynb",
      "provenance": []
    },
    "kernelspec": {
      "name": "python3",
      "display_name": "Python 3"
    },
    "accelerator": "GPU"
  },
  "cells": [
    {
      "cell_type": "markdown",
      "metadata": {
        "id": "gMXSE1nJQyWa",
        "colab_type": "text"
      },
      "source": [
        "### Course Structure\n",
        "https://www.analyticsvidhya.com/blog/2018/11/neural-networks-hyperparameter-tuning-regularization-deeplearning/\n",
        "\n",
        "Part 1 of this series covered concepts like how both shallow and deep neural networks work, how to implement forward and backpropagation on single as well as multiple training examples, among other things. Now comes the question of how to tweak these neural networks in order to extract the maximum accuracy out of them.\n",
        "\n",
        "Course 2, which we will see in this article, spans three modules:\n",
        "\n",
        "* In module 1, we will be covering the practical aspects of deep learning. We will see how to split the training, validation and test sets from the given data. We will also be covering topics like regularization, dropout, normalization, etc. that help us make our model more efficient.\n",
        "* In module 2, we will discuss the concept of a mini-batch gradient descent and a few more optimizers like Momentum, RMSprop, and ADAM.\n",
        "* In the last module, we will see how different hyperparameters can be tuned to improve the model’s efficiency. We will also cover the concept of Batch Normalization and how to solve a multi-class classification challenge."
      ]
    },
    {
      "cell_type": "markdown",
      "metadata": {
        "id": "uN5TWItZ0ZHm",
        "colab_type": "text"
      },
      "source": [
        "https://towardsdatascience.com/how-to-increase-the-accuracy-of-a-neural-network-9f5d1c6f407d\n",
        "\n",
        "https://www.datacamp.com/community/tutorials/convolutional-neural-networks-python"
      ]
    },
    {
      "cell_type": "markdown",
      "metadata": {
        "id": "mJQOU67Vh1YJ",
        "colab_type": "text"
      },
      "source": [
        "## An example\n",
        "We are going to work with feed-forward networks similar to the picture adopted from Wikimedia below.\n",
        "![ Diagram of a Convolutional Neural Network](https://drive.google.com/uc?id=1l_2U8B6rjMEd86GI9f4OLGH8Ih6K00EY)"
      ]
    },
    {
      "cell_type": "markdown",
      "metadata": {
        "id": "inmn_ARJjTtf",
        "colab_type": "text"
      },
      "source": [
        "The image shows you that you feed an image as an input to the network, which goes through multiple convolutions, subsampling, a fully connected layer and finally outputs something.\n",
        "<br><br>\n",
        "#### The Fashion-MNIST dataset\n",
        "Fashion-MNIST is similar to the MNIST dataset that collects Zalando's article images, with 28x28 grayscale images of 70,000 fashion products from 10 categories, and 7,000 images per category. The training set has 60,000 images, and the test set has 10,000 images."
      ]
    },
    {
      "cell_type": "markdown",
      "metadata": {
        "id": "2htkJLptgATg",
        "colab_type": "text"
      },
      "source": [
        "### Loading and preparing the data"
      ]
    },
    {
      "cell_type": "code",
      "metadata": {
        "id": "9OlJMmG9lIye",
        "colab_type": "code",
        "outputId": "99c235cd-0d76-4fc6-c8aa-391a527600b6",
        "colab": {
          "base_uri": "https://localhost:8080/",
          "height": 223
        }
      },
      "source": [
        "## Load the data\n",
        "from keras.datasets import fashion_mnist\n",
        "(train_X,train_Y), (test_X,test_Y) = fashion_mnist.load_data()"
      ],
      "execution_count": 0,
      "outputs": [
        {
          "output_type": "stream",
          "text": [
            "Using TensorFlow backend.\n"
          ],
          "name": "stderr"
        },
        {
          "output_type": "display_data",
          "data": {
            "text/html": [
              "<p style=\"color: red;\">\n",
              "The default version of TensorFlow in Colab will soon switch to TensorFlow 2.x.<br>\n",
              "We recommend you <a href=\"https://www.tensorflow.org/guide/migrate\" target=\"_blank\">upgrade</a> now \n",
              "or ensure your notebook will continue to use TensorFlow 1.x via the <code>%tensorflow_version 1.x</code> magic:\n",
              "<a href=\"https://colab.research.google.com/notebooks/tensorflow_version.ipynb\" target=\"_blank\">more info</a>.</p>\n"
            ],
            "text/plain": [
              "<IPython.core.display.HTML object>"
            ]
          },
          "metadata": {
            "tags": []
          }
        },
        {
          "output_type": "stream",
          "text": [
            "Downloading data from http://fashion-mnist.s3-website.eu-central-1.amazonaws.com/train-labels-idx1-ubyte.gz\n",
            "32768/29515 [=================================] - 0s 9us/step\n",
            "Downloading data from http://fashion-mnist.s3-website.eu-central-1.amazonaws.com/train-images-idx3-ubyte.gz\n",
            "26427392/26421880 [==============================] - 4s 0us/step\n",
            "Downloading data from http://fashion-mnist.s3-website.eu-central-1.amazonaws.com/t10k-labels-idx1-ubyte.gz\n",
            "8192/5148 [===============================================] - 0s 0us/step\n",
            "Downloading data from http://fashion-mnist.s3-website.eu-central-1.amazonaws.com/t10k-images-idx3-ubyte.gz\n",
            "4423680/4422102 [==============================] - 2s 1us/step\n"
          ],
          "name": "stdout"
        }
      ]
    },
    {
      "cell_type": "code",
      "metadata": {
        "id": "RCfRKIlGljJw",
        "colab_type": "code",
        "outputId": "024f25ec-f6f4-47e8-cd6c-1f2844a866a1",
        "colab": {
          "base_uri": "https://localhost:8080/",
          "height": 52
        }
      },
      "source": [
        "## Analyze the data\n",
        "import numpy as np\n",
        "from keras.utils import to_categorical\n",
        "import matplotlib.pyplot as plt\n",
        "%matplotlib inline\n",
        "\n",
        "print('Training data shape : ', train_X.shape, train_Y.shape)\n",
        "print('Testing data shape : ', test_X.shape, test_Y.shape)"
      ],
      "execution_count": 0,
      "outputs": [
        {
          "output_type": "stream",
          "text": [
            "Training data shape :  (60000, 28, 28) (60000,)\n",
            "Testing data shape :  (10000, 28, 28) (10000,)\n"
          ],
          "name": "stdout"
        }
      ]
    },
    {
      "cell_type": "code",
      "metadata": {
        "id": "TVjE0WPomaHi",
        "colab_type": "code",
        "outputId": "2955e4c1-299d-411d-bf66-00c37e16502f",
        "colab": {
          "base_uri": "https://localhost:8080/",
          "height": 209
        }
      },
      "source": [
        "### Visualize the image examples\n",
        "\n",
        "plt.figure(figsize=[5,5])\n",
        "\n",
        "# Display the last image in training data\n",
        "plt.subplot(121)\n",
        "plt.imshow(train_X[-1,:,:], cmap='gray')\n",
        "plt.title(\"Ground Truth : {}\".format(train_Y[0]))\n",
        "\n",
        "# Display the last image in testing data\n",
        "plt.subplot(122)\n",
        "plt.imshow(test_X[-1,:,:], cmap='gray')\n",
        "plt.title(\"Ground Truth : {}\".format(test_Y[0]))"
      ],
      "execution_count": 0,
      "outputs": [
        {
          "output_type": "execute_result",
          "data": {
            "text/plain": [
              "Text(0.5, 1.0, 'Ground Truth : 9')"
            ]
          },
          "metadata": {
            "tags": []
          },
          "execution_count": 3
        },
        {
          "output_type": "display_data",
          "data": {
            "image/png": "[encoded data removed]",
            "text/plain": [
              "<Figure size 360x360 with 2 Axes>"
            ]
          },
          "metadata": {
            "tags": []
          }
        }
      ]
    },
    {
      "cell_type": "markdown",
      "metadata": {
        "id": "VBzynNlNm7Y6",
        "colab_type": "text"
      },
      "source": [
        "The output of above two plots looks like sandals, and this class is assigned a class label of 9. Similarly, other fashion products will have different labels, but similar products will have same labels. "
      ]
    },
    {
      "cell_type": "markdown",
      "metadata": {
        "id": "CdcGn8GDndX2",
        "colab_type": "text"
      },
      "source": [
        "#### Data preproessing"
      ]
    },
    {
      "cell_type": "code",
      "metadata": {
        "id": "ZIGBy3mJnhxq",
        "colab_type": "code",
        "outputId": "482ecf27-8e92-40c5-9cc0-5e541f25ed08",
        "colab": {
          "base_uri": "https://localhost:8080/",
          "height": 35
        }
      },
      "source": [
        "## data reshaping\n",
        "train_X = train_X.reshape(-1, 28,28, 1)\n",
        "test_X = test_X.reshape(-1, 28,28, 1)\n",
        "print(train_X.shape, test_X.shape)\n",
        "\n",
        "## Data format changing and normalization (data scaling)\n",
        "train_X = train_X.astype('float32')\n",
        "test_X = test_X.astype('float32')\n",
        "train_X = train_X / 255.\n",
        "test_X = test_X / 255.\n",
        "\n",
        "# Change the labels from categorical to one-hot encoding\n",
        "train_Y_one_hot = to_categorical(train_Y)\n",
        "test_Y_one_hot = to_categorical(test_Y)\n"
      ],
      "execution_count": 0,
      "outputs": [
        {
          "output_type": "stream",
          "text": [
            "(60000, 28, 28, 1) (10000, 28, 28, 1)\n"
          ],
          "name": "stdout"
        }
      ]
    },
    {
      "cell_type": "code",
      "metadata": {
        "id": "mtbBEiWzpmkC",
        "colab_type": "code",
        "outputId": "d15a8b80-6ecc-4134-c9bd-fd2feb47712d",
        "colab": {
          "base_uri": "https://localhost:8080/",
          "height": 35
        }
      },
      "source": [
        "### Split the training data into two parts, one designed for training and another one for validation. \n",
        "### In this case, you will train the model on 80% of the training data and validate it on 20% of the remaining training data.\n",
        "from sklearn.model_selection import train_test_split\n",
        "train_X,valid_X,train_label,valid_label = train_test_split(train_X, train_Y_one_hot, test_size=0.2, random_state=13)\n",
        "print(train_X.shape,valid_X.shape,train_label.shape,valid_label.shape)"
      ],
      "execution_count": 0,
      "outputs": [
        {
          "output_type": "stream",
          "text": [
            "(48000, 28, 28, 1) (12000, 28, 28, 1) (48000, 10) (12000, 10)\n"
          ],
          "name": "stdout"
        }
      ]
    },
    {
      "cell_type": "markdown",
      "metadata": {
        "id": "nej40DIpqWQb",
        "colab_type": "text"
      },
      "source": [
        "### **A simple convolutional neural network**\n",
        "![the network architecture](https://drive.google.com/uc?id=1BWIwxK3qmCnhvqc8qWqZkAnhWMjv4CQE)"
      ]
    },
    {
      "cell_type": "code",
      "metadata": {
        "id": "FOg-aZnxqbBr",
        "colab_type": "code",
        "outputId": "8cb749e0-3926-4a58-a768-4f302782742d",
        "colab": {
          "base_uri": "https://localhost:8080/",
          "height": 178
        }
      },
      "source": [
        "## The images are of size 28 x 28. You convert the image matrix to an array, rescale it between 0 and 1, reshape it so that it's of size 28 x 28 x 1, and feed this as an input to the network. \n",
        "import keras\n",
        "from keras.models import Sequential,Input,Model\n",
        "from keras.layers import Dense, Dropout, Flatten\n",
        "from keras.layers import Conv2D, MaxPooling2D\n",
        "from keras.layers.normalization import BatchNormalization\n",
        "from keras.layers.advanced_activations import LeakyReLU\n",
        "\n",
        "batch_size = 64\n",
        "epochs = 20\n",
        "num_classes = 10\n",
        "#################################\n",
        "# The neural network architecture\n",
        "#################################\n",
        "\n",
        "fashion_model = Sequential()\n",
        "fashion_model.add(Conv2D(32, kernel_size=(3, 3),activation='linear',input_shape=(28,28,1),padding='same'))\n",
        "fashion_model.add(LeakyReLU(alpha=0.1))\n",
        "fashion_model.add(MaxPooling2D((2, 2),padding='same'))\n",
        "fashion_model.add(Conv2D(64, (3, 3), activation='linear',padding='same'))\n",
        "fashion_model.add(LeakyReLU(alpha=0.1))\n",
        "fashion_model.add(MaxPooling2D(pool_size=(2, 2),padding='same'))\n",
        "fashion_model.add(Conv2D(128, (3, 3), activation='linear',padding='same'))\n",
        "fashion_model.add(LeakyReLU(alpha=0.1))                  \n",
        "fashion_model.add(MaxPooling2D(pool_size=(2, 2),padding='same'))\n",
        "fashion_model.add(Flatten())\n",
        "fashion_model.add(Dense(128, activation='linear'))\n",
        "fashion_model.add(LeakyReLU(alpha=0.1))   \n",
        "fashion_model.add(Dense(num_classes, activation='softmax'))              "
      ],
      "execution_count": 0,
      "outputs": [
        {
          "output_type": "stream",
          "text": [
            "WARNING:tensorflow:From /usr/local/lib/python3.6/dist-packages/keras/backend/tensorflow_backend.py:66: The name tf.get_default_graph is deprecated. Please use tf.compat.v1.get_default_graph instead.\n",
            "\n",
            "WARNING:tensorflow:From /usr/local/lib/python3.6/dist-packages/keras/backend/tensorflow_backend.py:541: The name tf.placeholder is deprecated. Please use tf.compat.v1.placeholder instead.\n",
            "\n",
            "WARNING:tensorflow:From /usr/local/lib/python3.6/dist-packages/keras/backend/tensorflow_backend.py:4432: The name tf.random_uniform is deprecated. Please use tf.random.uniform instead.\n",
            "\n",
            "WARNING:tensorflow:From /usr/local/lib/python3.6/dist-packages/keras/backend/tensorflow_backend.py:4267: The name tf.nn.max_pool is deprecated. Please use tf.nn.max_pool2d instead.\n",
            "\n"
          ],
          "name": "stdout"
        }
      ]
    },
    {
      "cell_type": "code",
      "metadata": {
        "id": "tHoeU9QHtfym",
        "colab_type": "code",
        "outputId": "d89121e8-daea-49f0-bda4-9ca49716f590",
        "colab": {
          "base_uri": "https://localhost:8080/",
          "height": 708
        }
      },
      "source": [
        "### Model compiling\n",
        "fashion_model.compile(loss=keras.losses.categorical_crossentropy, optimizer=keras.optimizers.Adam(),metrics=['accuracy'])\n",
        "fashion_model.summary()"
      ],
      "execution_count": 0,
      "outputs": [
        {
          "output_type": "stream",
          "text": [
            "WARNING:tensorflow:From /usr/local/lib/python3.6/dist-packages/keras/optimizers.py:793: The name tf.train.Optimizer is deprecated. Please use tf.compat.v1.train.Optimizer instead.\n",
            "\n",
            "WARNING:tensorflow:From /usr/local/lib/python3.6/dist-packages/keras/backend/tensorflow_backend.py:3576: The name tf.log is deprecated. Please use tf.math.log instead.\n",
            "\n",
            "Model: \"sequential_1\"\n",
            "_________________________________________________________________\n",
            "Layer (type)                 Output Shape              Param #   \n",
            "=================================================================\n",
            "conv2d_1 (Conv2D)            (None, 28, 28, 32)        320       \n",
            "_________________________________________________________________\n",
            "leaky_re_lu_1 (LeakyReLU)    (None, 28, 28, 32)        0         \n",
            "_________________________________________________________________\n",
            "max_pooling2d_1 (MaxPooling2 (None, 14, 14, 32)        0         \n",
            "_________________________________________________________________\n",
            "conv2d_2 (Conv2D)            (None, 14, 14, 64)        18496     \n",
            "_________________________________________________________________\n",
            "leaky_re_lu_2 (LeakyReLU)    (None, 14, 14, 64)        0         \n",
            "_________________________________________________________________\n",
            "max_pooling2d_2 (MaxPooling2 (None, 7, 7, 64)          0         \n",
            "_________________________________________________________________\n",
            "conv2d_3 (Conv2D)            (None, 7, 7, 128)         73856     \n",
            "_________________________________________________________________\n",
            "leaky_re_lu_3 (LeakyReLU)    (None, 7, 7, 128)         0         \n",
            "_________________________________________________________________\n",
            "max_pooling2d_3 (MaxPooling2 (None, 4, 4, 128)         0         \n",
            "_________________________________________________________________\n",
            "flatten_1 (Flatten)          (None, 2048)              0         \n",
            "_________________________________________________________________\n",
            "dense_1 (Dense)              (None, 128)               262272    \n",
            "_________________________________________________________________\n",
            "leaky_re_lu_4 (LeakyReLU)    (None, 128)               0         \n",
            "_________________________________________________________________\n",
            "dense_2 (Dense)              (None, 10)                1290      \n",
            "=================================================================\n",
            "Total params: 356,234\n",
            "Trainable params: 356,234\n",
            "Non-trainable params: 0\n",
            "_________________________________________________________________\n"
          ],
          "name": "stdout"
        }
      ]
    },
    {
      "cell_type": "markdown",
      "metadata": {
        "id": "SA9eJMFmMXJs",
        "colab_type": "text"
      },
      "source": [
        "### Understand model performance\n",
        "#### Train the model"
      ]
    },
    {
      "cell_type": "code",
      "metadata": {
        "id": "CLh3r0iVuSSO",
        "colab_type": "code",
        "outputId": "6ff5f0cf-3104-4f89-afab-f411a38d350c",
        "colab": {
          "base_uri": "https://localhost:8080/",
          "height": 1000
        }
      },
      "source": [
        "### It's time to train the model with Keras' fit() function\n",
        "fashion_train = fashion_model.fit(train_X, train_label, batch_size=batch_size,epochs=epochs,verbose=1,validation_data=(valid_X, valid_label))"
      ],
      "execution_count": 0,
      "outputs": [
        {
          "output_type": "stream",
          "text": [
            "WARNING:tensorflow:From /usr/local/lib/python3.6/dist-packages/tensorflow_core/python/ops/math_grad.py:1424: where (from tensorflow.python.ops.array_ops) is deprecated and will be removed in a future version.\n",
            "Instructions for updating:\n",
            "Use tf.where in 2.0, which has the same broadcast rule as np.where\n",
            "WARNING:tensorflow:From /usr/local/lib/python3.6/dist-packages/keras/backend/tensorflow_backend.py:1033: The name tf.assign_add is deprecated. Please use tf.compat.v1.assign_add instead.\n",
            "\n",
            "WARNING:tensorflow:From /usr/local/lib/python3.6/dist-packages/keras/backend/tensorflow_backend.py:1020: The name tf.assign is deprecated. Please use tf.compat.v1.assign instead.\n",
            "\n",
            "WARNING:tensorflow:From /usr/local/lib/python3.6/dist-packages/keras/backend/tensorflow_backend.py:3005: The name tf.Session is deprecated. Please use tf.compat.v1.Session instead.\n",
            "\n",
            "Train on 48000 samples, validate on 12000 samples\n",
            "Epoch 1/20\n",
            "WARNING:tensorflow:From /usr/local/lib/python3.6/dist-packages/keras/backend/tensorflow_backend.py:190: The name tf.get_default_session is deprecated. Please use tf.compat.v1.get_default_session instead.\n",
            "\n",
            "WARNING:tensorflow:From /usr/local/lib/python3.6/dist-packages/keras/backend/tensorflow_backend.py:197: The name tf.ConfigProto is deprecated. Please use tf.compat.v1.ConfigProto instead.\n",
            "\n",
            "WARNING:tensorflow:From /usr/local/lib/python3.6/dist-packages/keras/backend/tensorflow_backend.py:207: The name tf.global_variables is deprecated. Please use tf.compat.v1.global_variables instead.\n",
            "\n",
            "WARNING:tensorflow:From /usr/local/lib/python3.6/dist-packages/keras/backend/tensorflow_backend.py:216: The name tf.is_variable_initialized is deprecated. Please use tf.compat.v1.is_variable_initialized instead.\n",
            "\n",
            "WARNING:tensorflow:From /usr/local/lib/python3.6/dist-packages/keras/backend/tensorflow_backend.py:223: The name tf.variables_initializer is deprecated. Please use tf.compat.v1.variables_initializer instead.\n",
            "\n",
            "48000/48000 [==============================] - 20s 421us/step - loss: 0.4635 - acc: 0.8314 - val_loss: 0.3350 - val_acc: 0.8804\n",
            "Epoch 2/20\n",
            "48000/48000 [==============================] - 6s 126us/step - loss: 0.2907 - acc: 0.8929 - val_loss: 0.2825 - val_acc: 0.8952\n",
            "Epoch 3/20\n",
            "48000/48000 [==============================] - 6s 128us/step - loss: 0.2459 - acc: 0.9088 - val_loss: 0.2666 - val_acc: 0.9019\n",
            "Epoch 4/20\n",
            "48000/48000 [==============================] - 6s 128us/step - loss: 0.2122 - acc: 0.9219 - val_loss: 0.2660 - val_acc: 0.9054\n",
            "Epoch 5/20\n",
            "48000/48000 [==============================] - 6s 126us/step - loss: 0.1882 - acc: 0.9304 - val_loss: 0.2292 - val_acc: 0.9152\n",
            "Epoch 6/20\n",
            "48000/48000 [==============================] - 6s 130us/step - loss: 0.1642 - acc: 0.9377 - val_loss: 0.2437 - val_acc: 0.9135\n",
            "Epoch 7/20\n",
            "48000/48000 [==============================] - 6s 132us/step - loss: 0.1442 - acc: 0.9457 - val_loss: 0.2235 - val_acc: 0.9230\n",
            "Epoch 8/20\n",
            "48000/48000 [==============================] - 6s 132us/step - loss: 0.1259 - acc: 0.9529 - val_loss: 0.2251 - val_acc: 0.9244\n",
            "Epoch 9/20\n",
            "48000/48000 [==============================] - 6s 129us/step - loss: 0.1083 - acc: 0.9583 - val_loss: 0.2535 - val_acc: 0.9180\n",
            "Epoch 10/20\n",
            "48000/48000 [==============================] - 6s 129us/step - loss: 0.0908 - acc: 0.9668 - val_loss: 0.2717 - val_acc: 0.9207\n",
            "Epoch 11/20\n",
            "48000/48000 [==============================] - 6s 128us/step - loss: 0.0781 - acc: 0.9705 - val_loss: 0.2774 - val_acc: 0.9197\n",
            "Epoch 12/20\n",
            "48000/48000 [==============================] - 6s 130us/step - loss: 0.0650 - acc: 0.9757 - val_loss: 0.3229 - val_acc: 0.9189\n",
            "Epoch 13/20\n",
            "48000/48000 [==============================] - 6s 130us/step - loss: 0.0543 - acc: 0.9799 - val_loss: 0.2998 - val_acc: 0.9216\n",
            "Epoch 14/20\n",
            "48000/48000 [==============================] - 6s 128us/step - loss: 0.0491 - acc: 0.9822 - val_loss: 0.3267 - val_acc: 0.9218\n",
            "Epoch 15/20\n",
            "48000/48000 [==============================] - 6s 129us/step - loss: 0.0454 - acc: 0.9826 - val_loss: 0.3560 - val_acc: 0.9222\n",
            "Epoch 16/20\n",
            "48000/48000 [==============================] - 6s 128us/step - loss: 0.0391 - acc: 0.9854 - val_loss: 0.3558 - val_acc: 0.9211\n",
            "Epoch 17/20\n",
            "48000/48000 [==============================] - 6s 127us/step - loss: 0.0379 - acc: 0.9860 - val_loss: 0.4069 - val_acc: 0.9178\n",
            "Epoch 18/20\n",
            "48000/48000 [==============================] - 6s 126us/step - loss: 0.0345 - acc: 0.9877 - val_loss: 0.3834 - val_acc: 0.9226\n",
            "Epoch 19/20\n",
            "48000/48000 [==============================] - 6s 127us/step - loss: 0.0287 - acc: 0.9893 - val_loss: 0.4039 - val_acc: 0.9227\n",
            "Epoch 20/20\n",
            "48000/48000 [==============================] - 6s 126us/step - loss: 0.0340 - acc: 0.9876 - val_loss: 0.4315 - val_acc: 0.9210\n"
          ],
          "name": "stdout"
        }
      ]
    },
    {
      "cell_type": "markdown",
      "metadata": {
        "id": "zL_in_opuw9z",
        "colab_type": "text"
      },
      "source": [
        "You trained the model on fashion-MNIST for 20 epochs, and by observing the training accuracy and loss"
      ]
    },
    {
      "cell_type": "markdown",
      "metadata": {
        "id": "E2fqYzntLsXB",
        "colab_type": "text"
      },
      "source": [
        "### Check for overfitting\n",
        "* We can first ensure the neural network performs well on the testing data to verify that the neural network does not overfit. <br>\n",
        "* What is overfitting? <br>\n",
        "<I><font color=7714e6> In machine learning, overfitting is a phenomenon where a machine learning model models the training data too well but fails to perform well on the testing data. Performing sufficiently good on testing data is considered as a kind of ultimatum in machine learning.\n"
      ]
    },
    {
      "cell_type": "markdown",
      "metadata": {
        "id": "btutrzCx1DWo",
        "colab_type": "text"
      },
      "source": [
        "![alt text](https://drive.google.com/uc?export&id=1FiZDQG5RngJb7CAa8Cp4cUr8w-YQgf1C)"
      ]
    },
    {
      "cell_type": "markdown",
      "metadata": {
        "id": "rahEALIJcoab",
        "colab_type": "text"
      },
      "source": [
        "#### How to identify if your model is overfitting?<br> \n",
        "You can just cross check the training accuracy and testing accuracy. If training accuracy is much higher than testing accuracy then you can posit that your model has overfitted. <br>\n",
        "You can also plot the predicted points on a graph to verify."
      ]
    },
    {
      "cell_type": "markdown",
      "metadata": {
        "id": "WF5KJpQ7vabm",
        "colab_type": "text"
      },
      "source": [
        "#### Model evauation on the test set"
      ]
    },
    {
      "cell_type": "code",
      "metadata": {
        "id": "bpX3yRvnvgBU",
        "colab_type": "code",
        "outputId": "206c6425-0902-43e2-be31-f0c22330bf7b",
        "colab": {
          "base_uri": "https://localhost:8080/",
          "height": 70
        }
      },
      "source": [
        "test_eval = fashion_model.evaluate(test_X, test_Y_one_hot, verbose=1)\n",
        "print('Test loss:', test_eval[0])\n",
        "print('Test accuracy:', test_eval[1])"
      ],
      "execution_count": 0,
      "outputs": [
        {
          "output_type": "stream",
          "text": [
            "10000/10000 [==============================] - 1s 54us/step\n",
            "Test loss: 0.49096115071699026\n",
            "Test accuracy: 0.9038\n"
          ],
          "name": "stdout"
        }
      ]
    },
    {
      "cell_type": "code",
      "metadata": {
        "id": "iHPv-sidwZjr",
        "colab_type": "code",
        "outputId": "58ef4676-30ff-473f-9962-66167ed30834",
        "colab": {
          "base_uri": "https://localhost:8080/",
          "height": 390
        }
      },
      "source": [
        "## put the model evaluation into perspective and plot the accuracy and loss plots between training and validation data\n",
        "accuracy = fashion_train.history['acc']\n",
        "val_accuracy = fashion_train.history['val_acc']\n",
        "loss = fashion_train.history['loss']\n",
        "val_loss = fashion_train.history['val_loss']\n",
        "epochs = range(len(accuracy))\n",
        "fig, (ax1, ax2)  = plt.subplots(1, 2, figsize=(12,6))\n",
        "\n",
        "ax1.plot(epochs, accuracy, 'bo', label='Training accuracy')\n",
        "ax1.plot(epochs, val_accuracy, 'b', label='Validation accuracy')\n",
        "ax1.title.set_text('Training and validation accuracy')\n",
        "ax1.legend()\n",
        "#plt.figure()\n",
        "ax2.plot(epochs, loss, 'bo', label='Training loss')\n",
        "ax2.plot(epochs, val_loss, 'b', label='Validation loss')\n",
        "ax2.legend()\n",
        "ax2.title.set_text('Training and validation loss')"
      ],
      "execution_count": 0,
      "outputs": [
        {
          "output_type": "display_data",
          "data": {
            "image/png": "[encoded data removed]",
            "text/plain": [
              "<Figure size 864x432 with 2 Axes>"
            ]
          },
          "metadata": {
            "tags": []
          }
        }
      ]
    },
    {
      "cell_type": "markdown",
      "metadata": {
        "id": "RMoqCQ3qdCCz",
        "colab_type": "text"
      },
      "source": [
        "#### A few techniques that can reduce overfitting:\n",
        "    * Regularisation of data (L1 or L2).\n",
        "    * Dropouts — Randomly dropping connections between neurons, forcing the network to find new paths and generalise.\n",
        "    * Early Stopping — Precipitates the training of the neural network, leading to reduction in error in the test set."
      ]
    },
    {
      "cell_type": "markdown",
      "metadata": {
        "id": "U-eYcIfn9Ped",
        "colab_type": "text"
      },
      "source": [
        "**You can add a dropout layer to overcome the problem of overfitting to some extent. Dropout randomly turns off a fraction of neurons during the training process, reducing the dependency on the training set by some amount.**"
      ]
    },
    {
      "cell_type": "markdown",
      "metadata": {
        "id": "mpfxmw6QICoM",
        "colab_type": "text"
      },
      "source": [
        "In a CNN, each neuron produces one feature map. Since dropout spatial dropout works per-neuron, dropping a neuron means that the corresponding feature map is dropped - e.g. each position has the same value (usually 0). So each feature map is either fully dropped or not dropped at all.\n",
        "\n",
        "Pooling usually operates separately on each feature map, so it should not make any difference if you apply dropout before or after pooling. At least this is the case for pooling operations like maxpooling or averaging.\n",
        "\n",
        "However, if you actually use element-wise dropout (which seems to be set as default for tensorflow), it actually makes a difference if you apply dropout before or after pooling. However, there is not necessarily a wrong way of doing it. Consider the average pooling operation: if you apply dropout before pooling, you effectively scale the resulting neuron activations by 1.0 - dropout_probability, but most neurons will be non-zero (in general). If you apply dropout after average pooling, you generally end up with a fraction of (1.0 - dropout_probability) non-zero \"unscaled\" neuron activations and a fraction of dropout_probability zero neurons. Both seems viable to me, neither is outright wrong.\n",
        "\n",
        "[This tutorial](http://danielnouri.org/notes/2014/12/17/using-convolutional-neural-nets-to-detect-facial-keypoints-tutorial/) uses pooling before dropout and gets good results.\n"
      ]
    },
    {
      "cell_type": "code",
      "metadata": {
        "id": "YEvCZp27JF7v",
        "colab_type": "code",
        "outputId": "fffa668f-a7da-49fc-be4c-139eb2bfbe89",
        "colab": {
          "base_uri": "https://localhost:8080/",
          "height": 55
        }
      },
      "source": [
        "#Example of VGG-like convnet from Keras (dropout used after pooling)\n",
        "'''\n",
        "import numpy as np\n",
        "import keras\n",
        "from keras.models import Sequential\n",
        "from keras.layers import Dense, Dropout, Flatten\n",
        "from keras.layers import Conv2D, MaxPooling2D\n",
        "from keras.optimizers import SGD\n",
        "\n",
        "# Generate dummy data **\n",
        "x_train = np.random.random((100, 100, 100, 3))\n",
        "y_train = keras.utils.to_categorical(np.random.randint(10, size=(100, 1)), num_classes=10)\n",
        "x_test = np.random.random((20, 100, 100, 3))\n",
        "y_test = keras.utils.to_categorical(np.random.randint(10, size=(20, 1)), num_classes=10)\n",
        "\n",
        "model = Sequential()\n",
        "# input: 100x100 images with 3 channels -> (100, 100, 3) tensors. **\n",
        "# this applies 32 convolution filters of size 3x3 each. **\n",
        "model.add(Conv2D(32, (3, 3), activation='relu', input_shape=(100, 100, 3)))\n",
        "model.add(Conv2D(32, (3, 3), activation='relu'))\n",
        "model.add(MaxPooling2D(pool_size=(2, 2)))\n",
        "model.add(Dropout(0.25))\n",
        "\n",
        "model.add(Conv2D(64, (3, 3), activation='relu'))\n",
        "model.add(Conv2D(64, (3, 3), activation='relu'))\n",
        "model.add(MaxPooling2D(pool_size=(2, 2)))\n",
        "model.add(Dropout(0.25))\n",
        "\n",
        "model.add(Flatten())\n",
        "model.add(Dense(256, activation='relu'))\n",
        "model.add(Dropout(0.5))\n",
        "model.add(Dense(10, activation='softmax'))\n",
        "\n",
        "sgd = SGD(lr=0.01, decay=1e-6, momentum=0.9, nesterov=True)\n",
        "model.compile(loss='categorical_crossentropy', optimizer=sgd)\n",
        "\n",
        "model.fit(x_train, y_train, batch_size=32, epochs=10)\n",
        "score = model.evaluate(x_test, y_test, batch_size=32)\n",
        "'''"
      ],
      "execution_count": 0,
      "outputs": [
        {
          "output_type": "execute_result",
          "data": {
            "text/plain": [
              "\"\\nimport numpy as np\\nimport keras\\nfrom keras.models import Sequential\\nfrom keras.layers import Dense, Dropout, Flatten\\nfrom keras.layers import Conv2D, MaxPooling2D\\nfrom keras.optimizers import SGD\\n\\n# Generate dummy data **\\nx_train = np.random.random((100, 100, 100, 3))\\ny_train = keras.utils.to_categorical(np.random.randint(10, size=(100, 1)), num_classes=10)\\nx_test = np.random.random((20, 100, 100, 3))\\ny_test = keras.utils.to_categorical(np.random.randint(10, size=(20, 1)), num_classes=10)\\n\\nmodel = Sequential()\\n# input: 100x100 images with 3 channels -> (100, 100, 3) tensors. **\\n# this applies 32 convolution filters of size 3x3 each. **\\nmodel.add(Conv2D(32, (3, 3), activation='relu', input_shape=(100, 100, 3)))\\nmodel.add(Conv2D(32, (3, 3), activation='relu'))\\nmodel.add(MaxPooling2D(pool_size=(2, 2)))\\nmodel.add(Dropout(0.25))\\n\\nmodel.add(Conv2D(64, (3, 3), activation='relu'))\\nmodel.add(Conv2D(64, (3, 3), activation='relu'))\\nmodel.add(MaxPooling2D(pool_size=(2, 2)))\\nmodel.add(Dropout(0.25))\\n\\nmodel.add(Flatten())\\nmodel.add(Dense(256, activation='relu'))\\nmodel.add(Dropout(0.5))\\nmodel.add(Dense(10, activation='softmax'))\\n\\nsgd = SGD(lr=0.01, decay=1e-6, momentum=0.9, nesterov=True)\\nmodel.compile(loss='categorical_crossentropy', optimizer=sgd)\\n\\nmodel.fit(x_train, y_train, batch_size=32, epochs=10)\\nscore = model.evaluate(x_test, y_test, batch_size=32)\\n\""
            ]
          },
          "metadata": {
            "tags": []
          },
          "execution_count": 12
        }
      ]
    },
    {
      "cell_type": "code",
      "metadata": {
        "id": "EhrkFY7Q9Fd3",
        "colab_type": "code",
        "colab": {}
      },
      "source": [
        "from keras.regularizers import l2\n",
        "\n",
        "### Adding dropout into the network\n",
        "batch_size = 64\n",
        "epochs = 20\n",
        "num_classes = 10\n",
        "#################################\n",
        "# The neural network architecture\n",
        "#################################\n",
        "\n",
        "fashion_model = Sequential()\n",
        "fashion_model.add(Conv2D(32, kernel_size=(3, 3),activation='linear',input_shape=(28,28,1),padding='same'))#, kernel_regularizer=l2(0.01), bias_regularizer=l2(0.01)))\n",
        "fashion_model.add(LeakyReLU(alpha=0.1))\n",
        "fashion_model.add(MaxPooling2D((2, 2),padding='same'))\n",
        "fashion_model.add(Dropout(0.25))  ####### after maxpooling\n",
        "\n",
        "fashion_model.add(Conv2D(64, (3, 3), activation='linear',padding='same'))#, kernel_regularizer=l2(0.01), bias_regularizer=l2(0.01)))\n",
        "fashion_model.add(LeakyReLU(alpha=0.1))\n",
        "fashion_model.add(MaxPooling2D(pool_size=(2, 2),padding='same'))\n",
        "fashion_model.add(Dropout(0.25))  ####### after maxpooling\n",
        "\n",
        "fashion_model.add(Conv2D(128, (3, 3), activation='linear',padding='same'))#, kernel_regularizer=l2(0.01), bias_regularizer=l2(0.01)))\n",
        "fashion_model.add(LeakyReLU(alpha=0.1))             \n",
        "fashion_model.add(MaxPooling2D(pool_size=(2, 2),padding='same'))\n",
        "fashion_model.add(Dropout(0.5))  ####### after maxpooling\n",
        "\n",
        "fashion_model.add(Flatten())\n",
        "fashion_model.add(Dense(128, activation='linear'))\n",
        "fashion_model.add(LeakyReLU(alpha=0.1))\n",
        "fashion_model.add(Dropout(0.4))  ####### after activation\n",
        "fashion_model.add(Dense(num_classes, activation='softmax')) "
      ],
      "execution_count": 0,
      "outputs": []
    },
    {
      "cell_type": "code",
      "metadata": {
        "id": "to731RRfKQmC",
        "colab_type": "code",
        "outputId": "9be46efc-dc0c-4777-cf92-4ab7a2d29a68",
        "colab": {
          "base_uri": "https://localhost:8080/",
          "height": 770
        }
      },
      "source": [
        "### Model compiling\n",
        "fashion_model.compile(loss=keras.losses.categorical_crossentropy, optimizer=keras.optimizers.Adam(),metrics=['accuracy'])\n",
        "fashion_model.summary()"
      ],
      "execution_count": 0,
      "outputs": [
        {
          "output_type": "stream",
          "text": [
            "Model: \"sequential_10\"\n",
            "_________________________________________________________________\n",
            "Layer (type)                 Output Shape              Param #   \n",
            "=================================================================\n",
            "conv2d_28 (Conv2D)           (None, 28, 28, 32)        320       \n",
            "_________________________________________________________________\n",
            "leaky_re_lu_37 (LeakyReLU)   (None, 28, 28, 32)        0         \n",
            "_________________________________________________________________\n",
            "max_pooling2d_28 (MaxPooling (None, 14, 14, 32)        0         \n",
            "_________________________________________________________________\n",
            "dropout_25 (Dropout)         (None, 14, 14, 32)        0         \n",
            "_________________________________________________________________\n",
            "conv2d_29 (Conv2D)           (None, 14, 14, 64)        18496     \n",
            "_________________________________________________________________\n",
            "leaky_re_lu_38 (LeakyReLU)   (None, 14, 14, 64)        0         \n",
            "_________________________________________________________________\n",
            "max_pooling2d_29 (MaxPooling (None, 7, 7, 64)          0         \n",
            "_________________________________________________________________\n",
            "dropout_26 (Dropout)         (None, 7, 7, 64)          0         \n",
            "_________________________________________________________________\n",
            "conv2d_30 (Conv2D)           (None, 7, 7, 128)         73856     \n",
            "_________________________________________________________________\n",
            "leaky_re_lu_39 (LeakyReLU)   (None, 7, 7, 128)         0         \n",
            "_________________________________________________________________\n",
            "max_pooling2d_30 (MaxPooling (None, 4, 4, 128)         0         \n",
            "_________________________________________________________________\n",
            "dropout_27 (Dropout)         (None, 4, 4, 128)         0         \n",
            "_________________________________________________________________\n",
            "flatten_10 (Flatten)         (None, 2048)              0         \n",
            "_________________________________________________________________\n",
            "dense_19 (Dense)             (None, 128)               262272    \n",
            "_________________________________________________________________\n",
            "leaky_re_lu_40 (LeakyReLU)   (None, 128)               0         \n",
            "_________________________________________________________________\n",
            "dropout_28 (Dropout)         (None, 128)               0         \n",
            "_________________________________________________________________\n",
            "dense_20 (Dense)             (None, 10)                1290      \n",
            "=================================================================\n",
            "Total params: 356,234\n",
            "Trainable params: 356,234\n",
            "Non-trainable params: 0\n",
            "_________________________________________________________________\n"
          ],
          "name": "stdout"
        }
      ]
    },
    {
      "cell_type": "code",
      "metadata": {
        "id": "uhGb6l8PKetG",
        "colab_type": "code",
        "outputId": "a600a7f2-f3de-4fbb-c609-3080f8e1cbbd",
        "colab": {
          "base_uri": "https://localhost:8080/",
          "height": 752
        }
      },
      "source": [
        "fashion_train_dropout = fashion_model.fit(train_X, train_label, batch_size=batch_size,epochs=epochs,verbose=1,validation_data=(valid_X, valid_label))"
      ],
      "execution_count": 0,
      "outputs": [
        {
          "output_type": "stream",
          "text": [
            "Train on 48000 samples, validate on 12000 samples\n",
            "Epoch 1/20\n",
            "48000/48000 [==============================] - 7s 137us/step - loss: 0.6398 - acc: 0.7646 - val_loss: 0.3843 - val_acc: 0.8622\n",
            "Epoch 2/20\n",
            "48000/48000 [==============================] - 5s 107us/step - loss: 0.4019 - acc: 0.8524 - val_loss: 0.3274 - val_acc: 0.8787\n",
            "Epoch 3/20\n",
            "48000/48000 [==============================] - 5s 105us/step - loss: 0.3530 - acc: 0.8712 - val_loss: 0.2994 - val_acc: 0.8903\n",
            "Epoch 4/20\n",
            "48000/48000 [==============================] - 5s 108us/step - loss: 0.3215 - acc: 0.8821 - val_loss: 0.2703 - val_acc: 0.9015\n",
            "Epoch 5/20\n",
            "48000/48000 [==============================] - 5s 106us/step - loss: 0.3044 - acc: 0.8884 - val_loss: 0.2665 - val_acc: 0.9005\n",
            "Epoch 6/20\n",
            "48000/48000 [==============================] - 5s 107us/step - loss: 0.2912 - acc: 0.8922 - val_loss: 0.2579 - val_acc: 0.9042\n",
            "Epoch 7/20\n",
            "48000/48000 [==============================] - 5s 106us/step - loss: 0.2793 - acc: 0.8952 - val_loss: 0.2504 - val_acc: 0.9077\n",
            "Epoch 8/20\n",
            "48000/48000 [==============================] - 5s 107us/step - loss: 0.2712 - acc: 0.8981 - val_loss: 0.2362 - val_acc: 0.9121\n",
            "Epoch 9/20\n",
            "48000/48000 [==============================] - 5s 106us/step - loss: 0.2613 - acc: 0.9041 - val_loss: 0.2336 - val_acc: 0.9115\n",
            "Epoch 10/20\n",
            "48000/48000 [==============================] - 5s 106us/step - loss: 0.2597 - acc: 0.9038 - val_loss: 0.2291 - val_acc: 0.9156\n",
            "Epoch 11/20\n",
            "48000/48000 [==============================] - 5s 108us/step - loss: 0.2490 - acc: 0.9076 - val_loss: 0.2256 - val_acc: 0.9170\n",
            "Epoch 12/20\n",
            "48000/48000 [==============================] - 5s 107us/step - loss: 0.2453 - acc: 0.9081 - val_loss: 0.2368 - val_acc: 0.9136\n",
            "Epoch 13/20\n",
            "48000/48000 [==============================] - 5s 106us/step - loss: 0.2421 - acc: 0.9102 - val_loss: 0.2167 - val_acc: 0.9189\n",
            "Epoch 14/20\n",
            "48000/48000 [==============================] - 5s 106us/step - loss: 0.2380 - acc: 0.9127 - val_loss: 0.2256 - val_acc: 0.9176\n",
            "Epoch 15/20\n",
            "48000/48000 [==============================] - 5s 105us/step - loss: 0.2314 - acc: 0.9139 - val_loss: 0.2129 - val_acc: 0.9219\n",
            "Epoch 16/20\n",
            "48000/48000 [==============================] - 5s 107us/step - loss: 0.2330 - acc: 0.9130 - val_loss: 0.2160 - val_acc: 0.9207\n",
            "Epoch 17/20\n",
            "48000/48000 [==============================] - 5s 104us/step - loss: 0.2292 - acc: 0.9145 - val_loss: 0.2167 - val_acc: 0.9227\n",
            "Epoch 18/20\n",
            "48000/48000 [==============================] - 5s 107us/step - loss: 0.2279 - acc: 0.9142 - val_loss: 0.2115 - val_acc: 0.9221\n",
            "Epoch 19/20\n",
            "48000/48000 [==============================] - 5s 106us/step - loss: 0.2264 - acc: 0.9157 - val_loss: 0.2140 - val_acc: 0.9218\n",
            "Epoch 20/20\n",
            "48000/48000 [==============================] - 5s 107us/step - loss: 0.2229 - acc: 0.9160 - val_loss: 0.2088 - val_acc: 0.9243\n"
          ],
          "name": "stdout"
        }
      ]
    },
    {
      "cell_type": "code",
      "metadata": {
        "id": "c1ZvnY_WLb39",
        "colab_type": "code",
        "outputId": "90c5201d-47a9-43b9-aa3b-41bd2f0a1ed8",
        "colab": {
          "base_uri": "https://localhost:8080/",
          "height": 71
        }
      },
      "source": [
        "test_eval = fashion_model.evaluate(test_X, test_Y_one_hot, verbose=1)\n",
        "print('Test loss:', test_eval[0])\n",
        "print('Test accuracy:', test_eval[1])"
      ],
      "execution_count": 0,
      "outputs": [
        {
          "output_type": "stream",
          "text": [
            "10000/10000 [==============================] - 1s 71us/step\n",
            "Test loss: 0.22133314504027365\n",
            "Test accuracy: 0.9209\n"
          ],
          "name": "stdout"
        }
      ]
    },
    {
      "cell_type": "code",
      "metadata": {
        "id": "x9O73DXxLp0G",
        "colab_type": "code",
        "outputId": "e24e6fda-1d34-43e3-fe7c-3228f36cc74d",
        "colab": {
          "base_uri": "https://localhost:8080/",
          "height": 390
        }
      },
      "source": [
        "accuracy = fashion_train_dropout.history['acc']\n",
        "val_accuracy = fashion_train_dropout.history['val_acc']\n",
        "loss = fashion_train_dropout.history['loss']\n",
        "val_loss = fashion_train_dropout.history['val_loss']\n",
        "epochs = range(len(accuracy))\n",
        "fig, (ax1, ax2)  = plt.subplots(1, 2, figsize=(12,6))\n",
        "\n",
        "ax1.plot(epochs, accuracy, 'bo', label='Training accuracy')\n",
        "ax1.plot(epochs, val_accuracy, 'b', label='Validation accuracy')\n",
        "ax1.title.set_text('Training and validation accuracy')\n",
        "ax1.legend()\n",
        "#plt.figure()\n",
        "ax2.plot(epochs, loss, 'bo', label='Training loss')\n",
        "ax2.plot(epochs, val_loss, 'b', label='Validation loss')\n",
        "ax2.legend()\n",
        "ax2.title.set_text('Training and validation loss')"
      ],
      "execution_count": 0,
      "outputs": [
        {
          "output_type": "display_data",
          "data": {
            "image/png": "[encoded data removed]",
            "text/plain": [
              "<Figure size 864x432 with 2 Axes>"
            ]
          },
          "metadata": {
            "tags": []
          }
        }
      ]
    },
    {
      "cell_type": "markdown",
      "metadata": {
        "id": "DyHuZPPlMf4b",
        "colab_type": "text"
      },
      "source": [
        "### Data dearth dealing\n",
        "There are many use cases where the amount of training data available is restricted. If you are not able to collect more data then you could resort to data augmentation techniques.\n",
        "https://towardsdatascience.com/how-to-increase-the-accuracy-of-a-neural-network-9f5d1c6f407d\n",
        "https://www.pyimagesearch.com/2019/07/08/keras-imagedatagenerator-and-data-augmentation/"
      ]
    },
    {
      "cell_type": "markdown",
      "metadata": {
        "id": "Q6nSuqvve0c2",
        "colab_type": "text"
      },
      "source": [
        "#### <b>Question:</b>\n",
        "Which of the followings does data augmentation do?\n",
        "\n",
        "   A.  Adds more training data<br>\n",
        "   B.  Replaces training data<br>\n",
        "   C.  Does both<br>\n",
        "   D.  I don’t know<br>\n"
      ]
    },
    {
      "cell_type": "markdown",
      "metadata": {
        "id": "SSFpJNjngJUP",
        "colab_type": "text"
      },
      "source": [
        "Technically, all the answers are correct — but the only way you know if a given definition of data augmentation is correct is via the context of its application.\n",
        "\n",
        "#### **What is data augmentation?**\n",
        "\n",
        "Data augmentation encompasses a wide range of techniques used to generate “new” training samples from the original ones by applying random jitters and perturbations (but at the same time ensuring that the class labels of the data are not changed).\n",
        "\n",
        "Our goal when applying data augmentation is to increase the generalizability of the model.\n",
        "\n",
        "Given that our network is constantly seeing new, slightly modified versions of the input data, the network is able to learn more robust features.\n",
        "\n",
        "At testing time we do not apply data augmentation and simply evaluate our trained network on the unmodified testing data "
      ]
    },
    {
      "cell_type": "markdown",
      "metadata": {
        "id": "t4wP-yndqMi6",
        "colab_type": "text"
      },
      "source": [
        "#### A simple data augmentation\n",
        "![alt text](https://drive.google.com/uc?id=1Ne089ybJL1Bv7VmAJwYJjDwkYcx7uHEF)\n",
        "\n",
        "**Left:** A sample of 250 data points that follow a normal distribution exactly.<br> **Right:** Adding a small amount of random “jitter” to the distribution. This type of data augmentation increases the generalizability of our networks.<br>\n",
        "\n",
        "In the context of computer vision, we can obtain augmented data by applying simple geometric transforms, for example:<br>\n",
        "*random* <br>\n",
        "> translations<br>\n",
        "> rotation<br>\n",
        "> scaling<br>\n",
        "> shearing<br>\n",
        "> horizontal/ vertical flips\n",
        "\n",
        "\n"
      ]
    },
    {
      "cell_type": "markdown",
      "metadata": {
        "id": "WUPeBi07Mj9x",
        "colab_type": "text"
      },
      "source": [
        "### Hyperparameter tuning\n",
        "Instead of trying different values by hand, we will use ***GridSearchCV*** from ***Scikit-Learn*** to try out several values for our hyperparameters and compare the results. <br>\n",
        "To do cross-validation with **keras**, we will use the wrappers for the Scikit-learn API.<br>\n",
        "There are two warppers available:\n",
        "<font color='red'>keras.wrappers.scikit_learn.KerasClassifier(build_fn=None, **sk_parms)</font>, which implements the Scikit-learn classifier interface,<br>\n",
        "<font color='red'>keras.wrappers.scikit_learn.KerasRegressor(build_fn=None, **sk_params)</font>, which implemens the Scikit-learn regressor interface.\n"
      ]
    },
    {
      "cell_type": "code",
      "metadata": {
        "id": "YrzQC0UhMnQY",
        "colab_type": "code",
        "colab": {}
      },
      "source": [
        "from sklearn.model_selection import GridSearchCV\n",
        "from keras.wrappers.scikit_learn import KerasClassifier"
      ],
      "execution_count": 0,
      "outputs": []
    },
    {
      "cell_type": "markdown",
      "metadata": {
        "id": "BPOZ3UQVpv6j",
        "colab_type": "text"
      },
      "source": [
        "#### Trying different weight initializations\n",
        "The first parameter we will try to optimized via cross-validation is different weight initializations."
      ]
    },
    {
      "cell_type": "code",
      "metadata": {
        "id": "Lh1VLxS1pfX1",
        "colab_type": "code",
        "colab": {}
      },
      "source": [
        "## Let's create a function that crteates the model while accepting the hyperparameters we want to tune\n",
        "\n",
        "num_classes = 10\n",
        "#################################\n",
        "# The neural network architecture\n",
        "#################################\n",
        "def create_model(init_mode = 'uniform'):\n",
        "  model = Sequential()\n",
        "  model.add(Conv2D(32, kernel_size=(3, 3),activation='linear',input_shape=(28,28,1),padding='same', kernel_initializer=init_mode))\n",
        "  model.add(LeakyReLU(alpha=0.1))\n",
        "  model.add(MaxPooling2D((2, 2),padding='same'))\n",
        "  model.add(Conv2D(64, (3, 3), activation='linear',padding='same', kernel_initializer=init_mode))\n",
        "  model.add(LeakyReLU(alpha=0.1))\n",
        "  model.add(MaxPooling2D(pool_size=(2, 2),padding='same'))\n",
        "  model.add(Conv2D(128, (3, 3), activation='linear',padding='same', kernel_initializer=init_mode))\n",
        "  model.add(LeakyReLU(alpha=0.1))                  \n",
        "  model.add(MaxPooling2D(pool_size=(2, 2),padding='same'))\n",
        "  model.add(Flatten())\n",
        "  model.add(Dense(128, activation='linear', kernel_initializer=init_mode))\n",
        "  model.add(LeakyReLU(alpha=0.1))   \n",
        "  model.add(Dense(num_classes, activation='softmax', kernel_initializer=init_mode))    \n",
        "  ## compile model\n",
        "  model.compile(loss=keras.losses.categorical_crossentropy, optimizer=keras.optimizers.Adam(),metrics=['accuracy'])\n",
        "  \n",
        "  return model         "
      ],
      "execution_count": 0,
      "outputs": []
    },
    {
      "cell_type": "code",
      "metadata": {
        "id": "NicYehuR3WRY",
        "colab_type": "code",
        "outputId": "f3ba1722-bac0-4230-c78a-a1b49a053c42",
        "colab": {
          "base_uri": "https://localhost:8080/",
          "height": 149
        }
      },
      "source": [
        "import tqdm\n",
        "import threading\n",
        "\n",
        "def provide_progress_bar(function, estimated_time, tstep=0.2, tqdm_kwargs={}, args = [], kwargs={}):\n",
        "  ##\n",
        "  ret = [None]  # Mutable var so the function can store its return value\n",
        "  def myrunner(function, ret, *args, **kwargs):\n",
        "    ret[0] = function(*args, **kwargs)\n",
        "\n",
        "  thread = threading.Thread(target=myrunner, args=(function, ret) + tuple(args), kwargs=kwargs)\n",
        "  pbar = tqdm.tqdm(total=estimated_time **tqdm_kwargs)\n",
        "\n",
        "  thread.start()\n",
        "  while thread.is_alive():\n",
        "    thread.join(timeout=tstep)\n",
        "    pbar.update(tstep)\n",
        "  pbar.close()\n",
        "  return ret[0]\n",
        "\n",
        "def progress_wrapped(estimated_time, tstep=0.2, tqdm_kwargs={}):\n",
        "  ### decorate a function to add a progres bar ###\n",
        "  def real_decorator(function):\n",
        "    @functools.wraps(function)\n",
        "    def wrapper(*args, **kwargs):\n",
        "      return provide_progress_bar(function, estimated_time=estimated_time, tstep=tstep, tqdm_kwargs=tqdm_kwargs, args=args, kwargs=kwargs)\n",
        "    return wrapper\n",
        "  return real_decorator\n",
        "\n",
        "@progress_wrapped(estimated_time = 5)\n",
        "'''\n",
        "# Basic example\n",
        "retval = provide_progress_bar(long_running_function, estimated_time=5)\n",
        "print(retval)\n",
        "\n",
        "# Full example\n",
        "retval = provide_progress_bar(long_running_function,\n",
        "        estimated_time=5, tstep=1/5.0,\n",
        "        tqdm_kwargs={\"bar_format\":'{desc}: {percentage:3.0f}%|{bar}| {n:.1f}/{total:.1f} [{elapsed}<{remaining}]'},\n",
        "        args=(1, \"foo\"), kwargs={\"spam\":\"eggs\"}\n",
        "    )\n",
        "print(retval)\n",
        "\n",
        "# Example of using the decorator\n",
        "retval = another_long_running_function()\n",
        "print(retval)\n",
        "'''"
      ],
      "execution_count": 0,
      "outputs": [
        {
          "output_type": "error",
          "ename": "SyntaxError",
          "evalue": "ignored",
          "traceback": [
            "\u001b[0;36m  File \u001b[0;32m\"<ipython-input-22-fde617fc70f8>\"\u001b[0;36m, line \u001b[0;32m46\u001b[0m\n\u001b[0;31m    '''\u001b[0m\n\u001b[0m       \n^\u001b[0m\n\u001b[0;31mSyntaxError\u001b[0m\u001b[0;31m:\u001b[0m invalid syntax\n"
          ]
        }
      ]
    },
    {
      "cell_type": "code",
      "metadata": {
        "id": "W8JozjR5nw4g",
        "colab_type": "code",
        "outputId": "abf60934-e2ff-465a-8736-5a5738a3f970",
        "colab": {
          "base_uri": "https://localhost:8080/",
          "height": 108
        }
      },
      "source": [
        "seed = 8\n",
        "batch_size = 64\n",
        "epochs = 1\n",
        "\n",
        "np.random.seed(seed)\n",
        "\n",
        "model_CV = KerasClassifier(build_fn=create_model, epochs = epochs, batch_size = batch_size, verbose = 1)\n",
        "## define the grid search parameters\n",
        "init_mode = ['uniform', 'lecun_uniform', 'normal', 'zero', 'glorot_normal', 'glorot_uniform', 'he_normal', 'he_uniform']\n",
        "param_grid = dict(init_mode = init_mode)\n",
        "grid = GridSearchCV(estimator = model_CV, param_grid = param_grid, n_jobs=-1, cv=3)\n",
        "grid_result = grid.fit(train_X, train_label)"
      ],
      "execution_count": 0,
      "outputs": [
        {
          "output_type": "stream",
          "text": [
            "/usr/local/lib/python3.6/dist-packages/joblib/externals/loky/process_executor.py:706: UserWarning: A worker stopped while some jobs were given to the executor. This can be caused by a too short worker timeout or by a memory leak.\n",
            "  \"timeout or by a memory leak.\", UserWarning\n"
          ],
          "name": "stderr"
        },
        {
          "output_type": "stream",
          "text": [
            "Epoch 1/1\n",
            "48000/48000 [==============================] - 6s 123us/step - loss: 0.4287 - acc: 0.8455\n"
          ],
          "name": "stdout"
        }
      ]
    },
    {
      "cell_type": "code",
      "metadata": {
        "id": "0u-Z5CXuxfWH",
        "colab_type": "code",
        "colab": {}
      },
      "source": [
        "#print results\n",
        "print(f'Best Accuracy for {grid_result.best_score_} using {grid_result.best_params_}')\n",
        "means = grid_result.cv_results_['mean_test_score']\n",
        "stds = grid_result.cv_results_['std_test_score']\n",
        "params = grid_result.cv_results_['params']\n",
        "for mean, stdev, param in zip(means, stds, params):\n",
        "    print(f' mean={mean:.4}, std={stdev:.4} using {param}')"
      ],
      "execution_count": 0,
      "outputs": []
    },
    {
      "cell_type": "markdown",
      "metadata": {
        "id": "sm9isXoKyDgQ",
        "colab_type": "text"
      },
      "source": [
        "#### cross-validation with more than one hyperparameter\n",
        "We can do cross-validation with more than one parameters simultaneously, effectively trying out combinations of them.<br>\n",
        "**Note: Cross-validation in neural networks is computationally expensive.**\n"
      ]
    },
    {
      "cell_type": "code",
      "metadata": {
        "id": "rEpufsx-ye4X",
        "colab_type": "code",
        "colab": {}
      },
      "source": [
        "### Let's perform a GridSearch for batch size, number of epochs and initializer combined now.\n",
        "### First, create a function that creates the model (required for KerasClassifier) \n",
        "### while accepting the hyperparameters we want to tune \n",
        "### we also pass some default values such as optimizer='Adam'\n",
        "\n",
        "def create_model2(optimizer ='Adam', init = 'glorot_uniform'):\n",
        "  model = Sequential()\n",
        "  model.add(Conv2D(32, kernel_size=(3, 3),activation='linear',input_shape=(28,28,1),padding='same', kernel_initializer=init))\n",
        "  model.add(LeakyReLU(alpha=0.1))\n",
        "  model.add(MaxPooling2D((2, 2),padding='same'))\n",
        "  model.add(Conv2D(64, (3, 3), activation='linear',padding='same', kernel_initializer=init))\n",
        "  model.add(LeakyReLU(alpha=0.1))\n",
        "  model.add(MaxPooling2D(pool_size=(2, 2),padding='same'))\n",
        "  model.add(Conv2D(128, (3, 3), activation='linear',padding='same', kernel_initializer=init))\n",
        "  model.add(LeakyReLU(alpha=0.1))                  \n",
        "  model.add(MaxPooling2D(pool_size=(2, 2),padding='same'))\n",
        "  model.add(Flatten())\n",
        "  model.add(Dense(128, activation='linear', kernel_initializer=init))\n",
        "  model.add(LeakyReLU(alpha=0.1))   \n",
        "  model.add(Dense(num_classes, activation='softmax', kernel_initializer=init))    \n",
        "  ## compile model\n",
        "  model.compile(loss=keras.losses.categorical_crossentropy, optimizer=optimizer ,metrics=['accuracy'])\n",
        "  \n",
        "  return model "
      ],
      "execution_count": 0,
      "outputs": []
    },
    {
      "cell_type": "markdown",
      "metadata": {
        "id": "hqatLSsWMpEk",
        "colab_type": "text"
      },
      "source": [
        "### Algorithm ensemble\n",
        "If individual neural networks are not as accurate as you want, you can create an ensemble of neural networks and combine their predictive power. For example:\n",
        "* Choose different neural network architectures\n",
        "* Train them on different parts of the data\n",
        "* Ensemble them and use their collective predictive power to get high accuracy on test data. "
      ]
    },
    {
      "cell_type": "code",
      "metadata": {
        "id": "xnhbjkyTMsOc",
        "colab_type": "code",
        "outputId": "a952d3f0-2eea-4ea9-fbc0-2f390e228935",
        "colab": {
          "base_uri": "https://localhost:8080/",
          "height": 52
        }
      },
      "source": [
        "### Supposedly you are building a cats vs dogs classifier, 0-cat and 1-dog. \n",
        "### When combining different cats vs dogs classifiers, \n",
        "### the accuracy of the ensemble algorithm increases based on the Pearson Correlation between the individual classifiers.\n",
        "\n",
        "### Let's look at the example below,\n",
        "'''\n",
        "Ground Truth: 1111111111\n",
        "Classifier 1: 1111111100 = 80% accuracy\n",
        "Classifier 2: 1111111100 = 80% accuracy\n",
        "Classifier 3: 1011111100 = 70% accuracy\n",
        "'''\n",
        "from scipy.stats import pearsonr as pr\n",
        "\n",
        "grnd_tru = [1,1,1,1,1,1,1,1,1,1]\n",
        "clfr1 = [1,1,1,1,1,1,1,1,0,0]\n",
        "clfr2 = [1,1,1,1,1,1,1,1,0,0]\n",
        "clfr3 = [1,0,1,1,1,1,1,1,0,0]\n",
        "\n",
        "r12, __ = pr(clfr1, clfr2)\n",
        "r13, __ = pr(clfr1, clfr3)\n",
        "r23, __ = pr(clfr2, clfr3)\n",
        "print('r12: %f, r13: %f, r23: %f' %(r12, r13, r23))\n",
        "\n",
        "### The Pearson Correlation of the three models is high. Therefore, ensembling them does not improve the accuracy. \n",
        "### If we ensemble the above three models using a majority vote, we get the following result.\n",
        "\n",
        "ensemble = [int((cl1+cl2+cl3)/3 > 0.5) for cl1, cl2, cl3 in zip(clfr1, clfr2, clfr3)]\n",
        "acc = [x == y for x, y in zip(grnd_tru, ensemble)]\n",
        "accuracy = sum(acc)/len(acc)\n",
        "print('accuracy =', accuracy)"
      ],
      "execution_count": 0,
      "outputs": [
        {
          "output_type": "stream",
          "text": [
            "r12: 1.000000, r13: 0.763763, r23: 0.763763\n",
            "accuracy = 0.8\n"
          ],
          "name": "stdout"
        }
      ]
    },
    {
      "cell_type": "code",
      "metadata": {
        "id": "lUtxjKhiqZN9",
        "colab_type": "code",
        "outputId": "2249ae0b-df56-4b6f-c995-2c95f43742e2",
        "colab": {
          "base_uri": "https://localhost:8080/",
          "height": 52
        }
      },
      "source": [
        "### Now let's look at three models having a very low Person Correlation between their outputs.\n",
        "'''\n",
        "Ground Truth: 1111111111\n",
        "Classifier 1: 1111111100 = 80% accuracy\n",
        "Classifier 2: 0111011101 = 70% accuracy\n",
        "Classifier 3: 1000101111 = 60% accuracy\n",
        "'''\n",
        "grnd_tru = [1,1,1,1,1,1,1,1,1,1]\n",
        "clfr1 = [1,1,1,1,1,1,1,1,0,0]\n",
        "clfr2 = [0,1,1,1,0,1,1,1,0,1]\n",
        "clfr3 = [1,0,0,0,1,0,1,1,1,1]\n",
        "\n",
        "r12, __ = pr(clfr1, clfr2)\n",
        "r13, __ = pr(clfr1, clfr3)\n",
        "r23, __ = pr(clfr2, clfr3)\n",
        "print('r12: %f, r13: %f, r23: %f' %(r12, r13, r23))\n",
        "\n",
        "###When we ensemble these three weak learners, we get the following result.\n",
        "ensemble = [int((cl1+cl2+cl3)/3 > 0.5) for cl1, cl2, cl3 in zip(clfr1, clfr2, clfr3)]\n",
        "acc = [x == y for x, y in zip(grnd_tru, ensemble)]\n",
        "accuracy = sum(acc)/len(acc)\n",
        "print('accuracy =', accuracy)"
      ],
      "execution_count": 0,
      "outputs": [
        {
          "output_type": "stream",
          "text": [
            "r12: 0.218218, r13: -0.408248, r23: -0.534522\n",
            "accuracy = 0.9\n"
          ],
          "name": "stdout"
        }
      ]
    },
    {
      "cell_type": "markdown",
      "metadata": {
        "id": "IieSmT6h7C8J",
        "colab_type": "text"
      },
      "source": [
        "#### An ensemble of weak learners with low Pearson Correlation is able to outperform an ensemble with high Pearson Correlation between them."
      ]
    },
    {
      "cell_type": "code",
      "metadata": {
        "id": "4qLvxk176-Gr",
        "colab_type": "code",
        "colab": {}
      },
      "source": [
        ""
      ],
      "execution_count": 0,
      "outputs": []
    }
  ]
}